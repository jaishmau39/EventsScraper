{
 "cells": [
  {
   "cell_type": "code",
   "execution_count": 16,
   "metadata": {},
   "outputs": [],
   "source": [
    "\n",
    "\n",
    "import requests\n",
    "from bs4 import BeautifulSoup\n",
    "import csv\n",
    "   \n",
    "URL = \"https://www.lakeheadu.ca/programs/departments/computer-science/faculty-staff\"\n",
    "r = requests.get(URL)\n",
    "   \n",
    "soup = BeautifulSoup(r.content, 'html5lib')\n",
    "   \n",
    "quotes=[]  # a list to store quotes\n",
    "   \n",
    "table = soup.find('div', attrs = {'class':'field field-name-body field-type-text-with-summary field-label-hidden'}) \n",
    "   \n",
    "for row in table.findAll('div', attrs = {'class':'staff-listing'}):\n",
    "    quote = {}\n",
    "    quote['name'] = row.h2.get_text()\n",
    "    for row1 in row.findAll('p', attrs = {'class':'view-profile'}):\n",
    "    # for row1 in row.findAll('a'):\n",
    "        quote['url'] = row1.a['href']\n",
    "    quotes.append(quote)\n",
    "   \n",
    "filename = 'cs_faculty.csv'\n",
    "with open(filename, 'w', newline='') as f:\n",
    "    w = csv.DictWriter(f,['name','url'])\n",
    "    w.writeheader()\n",
    "    for quote in quotes:\n",
    "        w.writerow(quote)"
   ]
  },
  {
   "cell_type": "code",
   "execution_count": null,
   "metadata": {},
   "outputs": [],
   "source": []
  }
 ],
 "metadata": {
  "kernelspec": {
   "display_name": "Python 3.9.7 ('base')",
   "language": "python",
   "name": "python3"
  },
  "language_info": {
   "codemirror_mode": {
    "name": "ipython",
    "version": 3
   },
   "file_extension": ".py",
   "mimetype": "text/x-python",
   "name": "python",
   "nbconvert_exporter": "python",
   "pygments_lexer": "ipython3",
   "version": "3.9.7"
  },
  "orig_nbformat": 4,
  "vscode": {
   "interpreter": {
    "hash": "db6bac2ca095e7b9852370b5e7e8c67c14070ea19f8cba6ab693b0a40ab113c8"
   }
  }
 },
 "nbformat": 4,
 "nbformat_minor": 2
}
