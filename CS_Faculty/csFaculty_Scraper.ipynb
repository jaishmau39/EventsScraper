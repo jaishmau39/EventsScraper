{
 "cells": [
  {
   "cell_type": "code",
   "execution_count": 41,
   "metadata": {},
   "outputs": [],
   "source": [
    "\n",
    "\n",
    "from unicodedata import name\n",
    "from git import Tag\n",
    "import requests\n",
    "from bs4 import BeautifulSoup\n",
    "import csv\n",
    "\n",
    "from sympy import content\n",
    "   \n",
    "URL = \"https://www.lakeheadu.ca/programs/departments/computer-science/faculty-staff\"\n",
    "r = requests.get(URL)\n",
    "   \n",
    "soup = BeautifulSoup(r.content, 'html5lib')\n",
    "   \n",
    "quotes=[]  # a list to store quotes\n",
    "   \n",
    "table = soup.find('div', attrs = {'class':'field field-name-body field-type-text-with-summary field-label-hidden'}) \n",
    "   \n",
    "for row in table.findAll('div', attrs = {'class':'staff-listing'}):\n",
    "    quote = {}\n",
    "    quote['name'] = row.h2.get_text()\n",
    "    quote['campus'] = row.p.a.get_text()\n",
    "\n",
    "    ps = row.find_all('p')\n",
    "    for i in range(len(ps)):\n",
    "        if i%4  == 0:\n",
    "            codetags = ps[3].find_all('span')\n",
    "            for codetag in codetags:\n",
    "                codetag.extract()\n",
    "            quote['email'] = ps[3].get_text() \n",
    "\n",
    "\n",
    "    \n",
    "    \n",
    "    for row1 in row.findAll('p', attrs = {'class':'view-profile'}):\n",
    "    # for row1 in row.findAll('a'):\n",
    "        quote['url'] = \"https://www.lakeheadu.ca\"+row1.a['href']\n",
    "    quotes.append(quote)\n",
    "\n",
    "    \n",
    "   \n",
    "filename = 'cs_Faculty.csv'\n",
    "with open(filename, 'w', newline='') as f:\n",
    "    w = csv.DictWriter(f,['name','campus','email','url'])\n",
    "    w.writeheader()\n",
    "    for quote in quotes:\n",
    "        w.writerow(quote)"
   ]
  },
  {
   "cell_type": "code",
   "execution_count": 2,
   "metadata": {},
   "outputs": [],
   "source": [
    "import requests\n",
    "from bs4 import BeautifulSoup\n",
    "import csv"
   ]
  },
  {
   "cell_type": "code",
   "execution_count": 3,
   "metadata": {},
   "outputs": [],
   "source": [
    "import csv\n",
    "import re\n",
    "import pandas as pd"
   ]
  },
  {
   "cell_type": "code",
   "execution_count": 4,
   "metadata": {},
   "outputs": [
    {
     "name": "stdout",
     "output_type": "stream",
     "text": [
      "None\n",
      "None\n",
      "<div class=\"term-tree-list\"><ul class=\"term\"><li class=\"selected\">Thick Data Analytics</li><li class=\"selected\">Collaborative Learning</li><li class=\"selected\">Data Mining and Machine Learning</li><li class=\"selected\">Learning Analytics</li><li class=\"selected\">Web Services</li><li class=\"selected\">smart health</li></ul></div>\n",
      "<div class=\"term-tree-list\"><ul class=\"term\"><li class=\"selected\">Artificial Intelligence</li><li class=\"selected\">Web Intelligence</li><li class=\"selected\">Machine Learning</li><li class=\"selected\">Internet of Healthcare Things</li><li class=\"selected\">Graph-Based Data Analytics</li><li class=\"selected\">Translational Medical Informatics</li></ul></div>\n",
      "<div class=\"term-tree-list\"><ul class=\"term\"><li class=\"selected\">Social Data Analytics</li><li class=\"selected\">Big Data</li><li class=\"selected\">Health Informatics</li><li class=\"selected\">Mathematical and Computational Modelling</li></ul></div>\n",
      "<div class=\"term-tree-list\"><ul class=\"term\"><li class=\"selected\">Optimization</li></ul></div>\n",
      "<div class=\"term-tree-list\"><ul class=\"term\"><li class=\"selected\">Beyond 5G (B5G) networks</li><li class=\"selected\">Intelligent Internet of Things (IoT)</li></ul></div>\n",
      "<div class=\"term-tree-list\"><ul class=\"term\"><li class=\"selected\">Robotics</li><li class=\"selected\">Haptics</li><li class=\"selected\">Human-Computer Interaction</li><li class=\"selected\">Tactile Perception</li></ul></div>\n",
      "None\n",
      "None\n",
      "None\n",
      "None\n",
      "<div class=\"term-tree-list\"><ul class=\"term\"><li class=\"selected\">Numerical Analysis</li><li class=\"selected\">Large Sparse Linear Systems</li><li class=\"selected\">Multigrid Methods</li><li class=\"selected\">Neural Networks</li><li class=\"selected\">Graph Drawing and Visualization</li></ul></div>\n",
      "None\n"
     ]
    }
   ],
   "source": [
    "\n",
    "info=pd.read_csv('C:/Users/jaish/Downloads/Scraper/EventsScraper/CS_Faculty/cs_faculty.csv')\n",
    "info=info.dropna()\n",
    "exps=[]  # a list to store expertise\n",
    "for name,url in zip(info.name,info.url):\n",
    "            \n",
    "            \n",
    "    r = requests.get(url)\n",
    "    soup = BeautifulSoup(r.content, 'html5lib') # If this line causes an error, run 'pip install html5lib' or install html5lib\n",
    "               \n",
    "    table = soup.find('div', attrs = {'class':'term-tree-list'}) \n",
    "    print(table)\n",
    "\n",
    "    # exp={}\n",
    "    # exp['name']=name\n",
    "    # res = table.get_text()\n",
    "    # div = table.find('ul', {\"class\" : \"term\"})\n",
    "    # text = div.text\n",
    "    # exp['expertise']=text\n",
    "    # print(exp)\n",
    "\n",
    "\n",
    "\n",
    "                # exp['phone']=text.replace(\" \",\"\")\n",
    "\n",
    "                # soup = BeautifulSoup(r.content, 'html5lib')\n",
    "                # div = soup.find('div', {\"class\" : \"title-and-body-text title-and-body-text-12\"})\n",
    "                # text = div.text\n",
    "                # exp['about']=re.sub(' +', ' ', text.replace(\"\\n\",\"\").replace('About',''))\n",
    "\n",
    "                #uncommmet\n",
    "                # exps.append(exp)\n",
    "\n",
    "\n",
    "                # print(exps)\n",
    "                \n",
    "            # except:\n",
    "            #     continue\n",
    "        # print(exps)\n",
    "        # print(\"\\n\\n\")\n",
    "        # print(\"Profile information is retrived successfylly and stored in a 'profile_exps.csv' file.\")\n",
    "        # filename = 'profile_exps.csv'\n",
    "        # with open(filename, 'w',encoding='utf-8', newline='') as f:\n",
    "        #     w = csv.DictWriter(f,['name','expertise'])\n",
    "        #     w.writeheader()\n",
    "        #     for exp in exps:\n",
    "        #         w.writerow(exp)"
   ]
  },
  {
   "cell_type": "code",
   "execution_count": null,
   "metadata": {},
   "outputs": [],
   "source": []
  }
 ],
 "metadata": {
  "kernelspec": {
   "display_name": "Python 3.9.7 ('base')",
   "language": "python",
   "name": "python3"
  },
  "language_info": {
   "codemirror_mode": {
    "name": "ipython",
    "version": 3
   },
   "file_extension": ".py",
   "mimetype": "text/x-python",
   "name": "python",
   "nbconvert_exporter": "python",
   "pygments_lexer": "ipython3",
   "version": "3.9.7"
  },
  "orig_nbformat": 4,
  "vscode": {
   "interpreter": {
    "hash": "db6bac2ca095e7b9852370b5e7e8c67c14070ea19f8cba6ab693b0a40ab113c8"
   }
  }
 },
 "nbformat": 4,
 "nbformat_minor": 2
}
