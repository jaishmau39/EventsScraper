{
 "cells": [
  {
   "cell_type": "code",
   "execution_count": 1,
   "metadata": {},
   "outputs": [],
   "source": [
    "from facebook_scraper import get_posts\n",
    "import pandas as pd\n",
    "import matplotlib.pyplot as plt\n",
    "import seaborn as sns\n",
    "\n"
   ]
  },
  {
   "cell_type": "code",
   "execution_count": 12,
   "metadata": {},
   "outputs": [
    {
     "name": "stderr",
     "output_type": "stream",
     "text": [
      "c:\\Users\\jaish\\anaconda3\\lib\\site-packages\\facebook_scraper\\facebook_scraper.py:912: UserWarning: Facebook says 'Unsupported Browser'\n",
      "  warnings.warn(f\"Facebook says 'Unsupported Browser'\")\n"
     ]
    },
    {
     "ename": "TypeError",
     "evalue": "append() missing 1 required positional argument: 'other'",
     "output_type": "error",
     "traceback": [
      "\u001b[1;31m---------------------------------------------------------------------------\u001b[0m",
      "\u001b[1;31mTypeError\u001b[0m                                 Traceback (most recent call last)",
      "\u001b[1;32mUntitled-1.ipynb Cell 2\u001b[0m in \u001b[0;36m<cell line: 1>\u001b[1;34m()\u001b[0m\n\u001b[0;32m      <a href='vscode-notebook-cell:Untitled-1.ipynb?jupyter-notebook#W1sdW50aXRsZWQ%3D?line=3'>4</a>\u001b[0m fb_post_df \u001b[39m=\u001b[39m fb_post_df\u001b[39m.\u001b[39mtranspose()\n\u001b[0;32m      <a href='vscode-notebook-cell:Untitled-1.ipynb?jupyter-notebook#W1sdW50aXRsZWQ%3D?line=4'>5</a>\u001b[0m post_df_full \u001b[39m=\u001b[39m pd\u001b[39m.\u001b[39mDataFrame\n\u001b[1;32m----> <a href='vscode-notebook-cell:Untitled-1.ipynb?jupyter-notebook#W1sdW50aXRsZWQ%3D?line=5'>6</a>\u001b[0m post_df_full\u001b[39m.\u001b[39;49mappend(fb_post_df)\n\u001b[0;32m      <a href='vscode-notebook-cell:Untitled-1.ipynb?jupyter-notebook#W1sdW50aXRsZWQ%3D?line=6'>7</a>\u001b[0m \u001b[39mprint\u001b[39m(post[\u001b[39m'\u001b[39m\u001b[39mpost_id\u001b[39m\u001b[39m'\u001b[39m]\u001b[39m+\u001b[39m\u001b[39m'\u001b[39m\u001b[39m get\u001b[39m\u001b[39m'\u001b[39m)\n",
      "\u001b[1;31mTypeError\u001b[0m: append() missing 1 required positional argument: 'other'"
     ]
    }
   ],
   "source": [
    "for post in get_posts('lakeheaduniversity', cookies='cookies.txt', extra_info=True, pages=5, options={\"comments\": True}):\n",
    "    post_entry = post\n",
    "    fb_post_df = pd.DataFrame.from_dict(post_entry, orient='Index')\n",
    "    fb_post_df = fb_post_df.transpose()\n",
    "    post_df_full = post_df_full.append(fb_post_df)\n",
    "    print(post['post_id']+' get')"
   ]
  },
  {
   "cell_type": "code",
   "execution_count": 16,
   "metadata": {},
   "outputs": [
    {
     "name": "stderr",
     "output_type": "stream",
     "text": [
      "c:\\Users\\jaish\\anaconda3\\lib\\site-packages\\facebook_scraper\\facebook_scraper.py:912: UserWarning: Facebook says 'Unsupported Browser'\n",
      "  warnings.warn(f\"Facebook says 'Unsupported Browser'\")\n"
     ]
    }
   ],
   "source": [
    "listposts = []\n",
    "for post in get_posts(\"lakeheaduniversity\", pages=10):\n",
    "    # print(post['text'][:50])\n",
    "    listposts.append(post)"
   ]
  },
  {
   "cell_type": "code",
   "execution_count": 17,
   "metadata": {},
   "outputs": [],
   "source": [
    "df = pd.DataFrame(listposts)\n",
    "df.to_excel('fb.xlsx', header=True, index=False)"
   ]
  },
  {
   "cell_type": "code",
   "execution_count": null,
   "metadata": {},
   "outputs": [],
   "source": []
  }
 ],
 "metadata": {
  "kernelspec": {
   "display_name": "Python 3.9.7 ('base')",
   "language": "python",
   "name": "python3"
  },
  "language_info": {
   "codemirror_mode": {
    "name": "ipython",
    "version": 3
   },
   "file_extension": ".py",
   "mimetype": "text/x-python",
   "name": "python",
   "nbconvert_exporter": "python",
   "pygments_lexer": "ipython3",
   "version": "3.9.7"
  },
  "orig_nbformat": 4,
  "vscode": {
   "interpreter": {
    "hash": "db6bac2ca095e7b9852370b5e7e8c67c14070ea19f8cba6ab693b0a40ab113c8"
   }
  }
 },
 "nbformat": 4,
 "nbformat_minor": 2
}
