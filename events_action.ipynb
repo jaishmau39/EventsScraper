{
 "cells": [
  {
   "cell_type": "code",
   "execution_count": 1,
   "metadata": {},
   "outputs": [],
   "source": [
    "import pandas as pd\n",
    "import gensim\n",
    "from gensim.parsing.preprocessing import preprocess_documents\n",
    "from gensim.models.doc2vec import Doc2Vec, TaggedDocument"
   ]
  },
  {
   "cell_type": "code",
   "execution_count": 6,
   "metadata": {},
   "outputs": [],
   "source": [
    "from facebook_scraper import get_posts\n",
    "import matplotlib.pyplot as plt\n",
    "import seaborn as sns"
   ]
  },
  {
   "cell_type": "code",
   "execution_count": 7,
   "metadata": {},
   "outputs": [
    {
     "name": "stderr",
     "output_type": "stream",
     "text": [
      "c:\\Users\\jaish\\anaconda3\\lib\\site-packages\\facebook_scraper\\facebook_scraper.py:912: UserWarning: Facebook says 'Unsupported Browser'\n",
      "  warnings.warn(f\"Facebook says 'Unsupported Browser'\")\n"
     ]
    }
   ],
   "source": [
    "listposts = []\n",
    "for post in get_posts(\"lakeheaduniversity\", pages=10):\n",
    "    listposts.append(post)"
   ]
  },
  {
   "cell_type": "code",
   "execution_count": 9,
   "metadata": {},
   "outputs": [],
   "source": [
    "df = pd.DataFrame(listposts)"
   ]
  },
  {
   "cell_type": "code",
   "execution_count": 17,
   "metadata": {},
   "outputs": [],
   "source": [
    "df.dropna(subset = [\"text\"], inplace=True)"
   ]
  },
  {
   "cell_type": "code",
   "execution_count": 18,
   "metadata": {},
   "outputs": [],
   "source": [
    "text_corpus = df['text'].values"
   ]
  },
  {
   "cell_type": "code",
   "execution_count": 19,
   "metadata": {},
   "outputs": [],
   "source": [
    "processed_corpus = preprocess_documents(text_corpus)\n"
   ]
  },
  {
   "cell_type": "code",
   "execution_count": 20,
   "metadata": {},
   "outputs": [],
   "source": [
    "tagged_corpus = [TaggedDocument(d, [i]) for i, d in enumerate(processed_corpus)]"
   ]
  },
  {
   "cell_type": "code",
   "execution_count": 21,
   "metadata": {},
   "outputs": [],
   "source": [
    "model = Doc2Vec(tagged_corpus, dm=0, vector_size=200, window=2, min_count=1, epochs=100, hs=1)"
   ]
  },
  {
   "cell_type": "code",
   "execution_count": 22,
   "metadata": {},
   "outputs": [],
   "source": [
    "new_doc=\"residence\""
   ]
  },
  {
   "cell_type": "code",
   "execution_count": 23,
   "metadata": {},
   "outputs": [],
   "source": [
    "new_doc = gensim.parsing.preprocessing.preprocess_string(new_doc)\n",
    "test_doc_vector = model.infer_vector(new_doc)"
   ]
  },
  {
   "cell_type": "code",
   "execution_count": 27,
   "metadata": {},
   "outputs": [],
   "source": [
    "sims = model.docvecs.most_similar(positive = [test_doc_vector])"
   ]
  },
  {
   "cell_type": "code",
   "execution_count": 29,
   "metadata": {},
   "outputs": [
    {
     "name": "stdout",
     "output_type": "stream",
     "text": [
      "['💬 Meet with a Recruitment Advisor\\n\\nAre you a current domestic high school student? A Canadian resident not currently attending an Ontario University? Looking to switch from an Ontario College or University? Do you have questions about your application or program or how to apply to residence or for scholarships and bursaries? Not sure what your next steps are?\\n\\nWe’re here to help! Book a one-on-one private meeting with a Recruitment Advisor today ➡️ https://loom.ly/LucY9-c\\n\\n#myLakehead', 'Meet with a Recruitment Advisor 💬\\n\\nAre you a current domestic high school student? A Canadian resident not currently attending an Ontario University? Looking to switch from an Ontario College or University? Do you have questions about your application or program or how to apply to residence or for scholarships and bursaries? Not sure what your next steps are?\\n\\nWe’re here to help! Book a one-on-one private meeting with a Recruitment Advisor today ➡️ https://loom.ly/LucY9-c\\n\\n#myLakehead', 'Lakehead University welcomes new students at Residence Move-In Day\\n\\nRead more on CBC Thunder Bay: https://www.cbc.ca/news/canada/thunder-bay/lakehead-university-move-in-day-1.6569938\\n\\n#mylakehead\\n\\nCBC.CA\\nLakehead University welcomes new students at Residence Move-In Day | CBC News', 'At Lakehead, we embrace the fact that you cannot go home every weekend. From the people you’ll meet to the laughs you’ll share, living in Residence will become a whole new way of life where you will enjoy convenience and safety within a fun and friendly community 👋\\n\\n2022 Residence Check-in for both campuses starts this week on Thursday, Sept 1st!\\nFor all your residence and housing info, visit: https://loom.ly/JoA7a18\\n\\n#myLakehead #LakeheadUniversity #LakeheadU', 'Jessica Maher is spending her summer making an impact through local research thanks to a new scholarship from Royal Victoria Regional Health Centre (RVH).\\n\\nMaher, a Tottenham resident and recent graduate of the Applied Life Sciences program at Lakehead University, is the first recipient of RVH’s Laura E. Crook Scholarship for Community Health Research.\\n\\nRead more at: https://loom.ly/Q0RY-B4\\n\\n#mylakehead #lakeheadalumni #research #healthsciences #orillia #barrie #thunderbay']\n"
     ]
    }
   ],
   "source": [
    "# get the top 5 matches\n",
    "movies = [df['text'].iloc[s[0]] for s in sims[:5]]\n",
    "print(movies)"
   ]
  },
  {
   "cell_type": "code",
   "execution_count": 25,
   "metadata": {},
   "outputs": [
    {
     "name": "stdout",
     "output_type": "stream",
     "text": [
      "0.7035566568374634 | 9\n",
      "0.6984018683433533 | 17\n",
      "0.6793625354766846 | 20\n",
      "0.662382185459137 | 19\n",
      "0.5180919170379639 | 10\n",
      "0.41467416286468506 | 11\n",
      "0.3958471417427063 | 5\n",
      "0.39351874589920044 | 7\n",
      "0.389006644487381 | 18\n",
      "0.3872179687023163 | 15\n"
     ]
    }
   ],
   "source": [
    "sims = model.docvecs.most_similar(positive = [test_doc_vector])\n",
    "for s in sims:\n",
    "    print(f\"{(s[1])} | {df['likes'].iloc[s[0]]}\")"
   ]
  },
  {
   "cell_type": "code",
   "execution_count": null,
   "metadata": {},
   "outputs": [],
   "source": []
  }
 ],
 "metadata": {
  "kernelspec": {
   "display_name": "Python 3.9.7 ('base')",
   "language": "python",
   "name": "python3"
  },
  "language_info": {
   "codemirror_mode": {
    "name": "ipython",
    "version": 3
   },
   "file_extension": ".py",
   "mimetype": "text/x-python",
   "name": "python",
   "nbconvert_exporter": "python",
   "pygments_lexer": "ipython3",
   "version": "3.9.7"
  },
  "orig_nbformat": 4,
  "vscode": {
   "interpreter": {
    "hash": "db6bac2ca095e7b9852370b5e7e8c67c14070ea19f8cba6ab693b0a40ab113c8"
   }
  }
 },
 "nbformat": 4,
 "nbformat_minor": 2
}
